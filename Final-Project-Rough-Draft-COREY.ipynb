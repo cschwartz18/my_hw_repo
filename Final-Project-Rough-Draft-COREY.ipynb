{
 "cells": [
  {
   "cell_type": "code",
   "execution_count": 74,
   "metadata": {
    "collapsed": true
   },
   "outputs": [],
   "source": [
    "from __future__ import division\n",
    "import pandas as pd\n",
    "import numpy as np\n",
    "import statsmodels.api as sm\n",
    "import numpy as np\n",
    "import seaborn as sns\n",
    "%matplotlib inline"
   ]
  },
  {
   "cell_type": "code",
   "execution_count": 75,
   "metadata": {
    "collapsed": false
   },
   "outputs": [
    {
     "data": {
      "text/html": [
       "<div>\n",
       "<table border=\"1\" class=\"dataframe\">\n",
       "  <thead>\n",
       "    <tr style=\"text-align: right;\">\n",
       "      <th></th>\n",
       "      <th>Age</th>\n",
       "      <th>SBperPA</th>\n",
       "      <th>BABIP</th>\n",
       "      <th>GB</th>\n",
       "      <th>LD</th>\n",
       "      <th>HRperFB</th>\n",
       "    </tr>\n",
       "  </thead>\n",
       "  <tbody>\n",
       "    <tr>\n",
       "      <th>count</th>\n",
       "      <td>1753.000</td>\n",
       "      <td>1753.000</td>\n",
       "      <td>1753.000</td>\n",
       "      <td>1753.000</td>\n",
       "      <td>1753.000</td>\n",
       "      <td>1753.000</td>\n",
       "    </tr>\n",
       "    <tr>\n",
       "      <th>mean</th>\n",
       "      <td>28.547</td>\n",
       "      <td>0.015</td>\n",
       "      <td>0.301</td>\n",
       "      <td>0.439</td>\n",
       "      <td>0.205</td>\n",
       "      <td>0.108</td>\n",
       "    </tr>\n",
       "    <tr>\n",
       "      <th>std</th>\n",
       "      <td>3.984</td>\n",
       "      <td>0.019</td>\n",
       "      <td>0.037</td>\n",
       "      <td>0.068</td>\n",
       "      <td>0.031</td>\n",
       "      <td>0.058</td>\n",
       "    </tr>\n",
       "    <tr>\n",
       "      <th>min</th>\n",
       "      <td>19.000</td>\n",
       "      <td>0.000</td>\n",
       "      <td>0.185</td>\n",
       "      <td>0.190</td>\n",
       "      <td>0.120</td>\n",
       "      <td>0.000</td>\n",
       "    </tr>\n",
       "    <tr>\n",
       "      <th>25%</th>\n",
       "      <td>26.000</td>\n",
       "      <td>0.003</td>\n",
       "      <td>0.275</td>\n",
       "      <td>0.390</td>\n",
       "      <td>0.190</td>\n",
       "      <td>0.066</td>\n",
       "    </tr>\n",
       "    <tr>\n",
       "      <th>50%</th>\n",
       "      <td>28.000</td>\n",
       "      <td>0.009</td>\n",
       "      <td>0.301</td>\n",
       "      <td>0.430</td>\n",
       "      <td>0.210</td>\n",
       "      <td>0.100</td>\n",
       "    </tr>\n",
       "    <tr>\n",
       "      <th>75%</th>\n",
       "      <td>31.000</td>\n",
       "      <td>0.021</td>\n",
       "      <td>0.324</td>\n",
       "      <td>0.480</td>\n",
       "      <td>0.220</td>\n",
       "      <td>0.140</td>\n",
       "    </tr>\n",
       "    <tr>\n",
       "      <th>max</th>\n",
       "      <td>42.000</td>\n",
       "      <td>0.142</td>\n",
       "      <td>0.411</td>\n",
       "      <td>0.670</td>\n",
       "      <td>0.310</td>\n",
       "      <td>0.400</td>\n",
       "    </tr>\n",
       "  </tbody>\n",
       "</table>\n",
       "</div>"
      ],
      "text/plain": [
       "            Age   SBperPA     BABIP        GB        LD   HRperFB\n",
       "count  1753.000  1753.000  1753.000  1753.000  1753.000  1753.000\n",
       "mean     28.547     0.015     0.301     0.439     0.205     0.108\n",
       "std       3.984     0.019     0.037     0.068     0.031     0.058\n",
       "min      19.000     0.000     0.185     0.190     0.120     0.000\n",
       "25%      26.000     0.003     0.275     0.390     0.190     0.066\n",
       "50%      28.000     0.009     0.301     0.430     0.210     0.100\n",
       "75%      31.000     0.021     0.324     0.480     0.220     0.140\n",
       "max      42.000     0.142     0.411     0.670     0.310     0.400"
      ]
     },
     "execution_count": 75,
     "metadata": {},
     "output_type": "execute_result"
    }
   ],
   "source": [
    "#The below contains all of the necessary splicing and renaming, etc., done during my exploratory analysis.\n",
    "\n",
    "df = pd.read_csv(\"../my_hw_repo/Fangraphs_2012.csv\")\n",
    "df2 = pd.read_csv(\"../my_hw_repo/Fangraphs_2013.csv\")\n",
    "df3 = pd.read_csv(\"../my_hw_repo/Fangraphs_2014.csv\")\n",
    "df4 = pd.read_csv(\"../my_hw_repo/Fangraphs_2015.csv\")\n",
    "df5 = pd.read_csv(\"../my_hw_repo/Fangraphs_2016.csv\")\n",
    "\n",
    "batters = df.append(df2).append(df3).append(df4).append(df5)\n",
    "#Combined 2012-2016 data into one dataframe called \"batters\"\n",
    "\n",
    "batters = batters[[\"Age\", \"PA\", \"SB\", \"BABIP\", \"GB%\", \"LD%\", \"HR/FB\"]]\n",
    "#Kept the features I think may be relevant\n",
    "\n",
    "batters['GB%'] = batters['GB%'].apply(lambda x: x[0:3]).astype(float)/100\n",
    "batters['LD%'] = batters['LD%'].apply(lambda x: x[0:3]).astype(float)/100\n",
    "batters['HR/FB'] = batters['HR/FB'].apply(lambda x: x[0:3]).astype(float)/100\n",
    "#Converted the strings to floats, confirmed below by showing data types\n",
    "\n",
    "batters = batters[batters['PA'] > 200]\n",
    "\n",
    "batters['SB'] = batters['SB']/batters['PA'] #Change from raw SB totals to SB/PA - a proxy for speed\n",
    "batters = batters[[\"Age\", \"SB\", \"BABIP\", \"GB%\", \"LD%\", \"HR/FB\"]] #Deleted PA variable, not relevant anymore\n",
    "batters.rename(columns = {'SB':'SBperPA', 'GB%':'GB', 'LD%':'LD', 'HR/FB':'HRperFB'}, inplace = True)\n",
    "#Renamed columns for various reasons - mostly so they can be used later without % or / characters in them\n",
    "\n",
    "batters.describe().round(3)"
   ]
  },
  {
   "cell_type": "code",
   "execution_count": 88,
   "metadata": {
    "collapsed": true
   },
   "outputs": [],
   "source": [
    "from sklearn.cross_validation import train_test_split\n",
    "\n",
    "X, y = batters.loc[:, ['Age', 'SBperPA', 'GB', 'LD', 'HRperFB']].values, batters.loc[:, 'BABIP'].values\n",
    "X_train, X_test, y_train, y_test = train_test_split(X, y, test_size=0.2, random_state=0)"
   ]
  },
  {
   "cell_type": "code",
   "execution_count": 89,
   "metadata": {
    "collapsed": false
   },
   "outputs": [],
   "source": [
    "from sklearn.preprocessing import StandardScaler\n",
    "\n",
    "stdsc = StandardScaler()\n",
    "X_train_std = stdsc.fit_transform(X_train)\n",
    "X_test_std = stdsc.transform(X_test)"
   ]
  },
  {
   "cell_type": "code",
   "execution_count": 106,
   "metadata": {
    "collapsed": false
   },
   "outputs": [
    {
     "data": {
      "text/html": [
       "<table class=\"simpletable\">\n",
       "<caption>OLS Regression Results</caption>\n",
       "<tr>\n",
       "  <th>Dep. Variable:</th>            <td>y</td>        <th>  R-squared:         </th> <td>   0.369</td> \n",
       "</tr>\n",
       "<tr>\n",
       "  <th>Model:</th>                   <td>OLS</td>       <th>  Adj. R-squared:    </th> <td>   0.367</td> \n",
       "</tr>\n",
       "<tr>\n",
       "  <th>Method:</th>             <td>Least Squares</td>  <th>  F-statistic:       </th> <td>   163.3</td> \n",
       "</tr>\n",
       "<tr>\n",
       "  <th>Date:</th>             <td>Tue, 28 Mar 2017</td> <th>  Prob (F-statistic):</th> <td>7.60e-137</td>\n",
       "</tr>\n",
       "<tr>\n",
       "  <th>Time:</th>                 <td>14:04:37</td>     <th>  Log-Likelihood:    </th> <td>  2947.8</td> \n",
       "</tr>\n",
       "<tr>\n",
       "  <th>No. Observations:</th>      <td>  1402</td>      <th>  AIC:               </th> <td>  -5884.</td> \n",
       "</tr>\n",
       "<tr>\n",
       "  <th>Df Residuals:</th>          <td>  1396</td>      <th>  BIC:               </th> <td>  -5852.</td> \n",
       "</tr>\n",
       "<tr>\n",
       "  <th>Df Model:</th>              <td>     5</td>      <th>                     </th>     <td> </td>    \n",
       "</tr>\n",
       "<tr>\n",
       "  <th>Covariance Type:</th>      <td>nonrobust</td>    <th>                     </th>     <td> </td>    \n",
       "</tr>\n",
       "</table>\n",
       "<table class=\"simpletable\">\n",
       "<tr>\n",
       "    <td></td>       <th>coef</th>     <th>std err</th>      <th>t</th>      <th>P>|t|</th> <th>[95.0% Conf. Int.]</th> \n",
       "</tr>\n",
       "<tr>\n",
       "  <th>const</th> <td>    0.3012</td> <td>    0.001</td> <td>  380.805</td> <td> 0.000</td> <td>    0.300     0.303</td>\n",
       "</tr>\n",
       "<tr>\n",
       "  <th>x1</th>    <td>   -0.0049</td> <td>    0.001</td> <td>   -6.142</td> <td> 0.000</td> <td>   -0.007    -0.003</td>\n",
       "</tr>\n",
       "<tr>\n",
       "  <th>x2</th>    <td>    0.0064</td> <td>    0.001</td> <td>    7.549</td> <td> 0.000</td> <td>    0.005     0.008</td>\n",
       "</tr>\n",
       "<tr>\n",
       "  <th>x3</th>    <td>    0.0103</td> <td>    0.001</td> <td>   11.863</td> <td> 0.000</td> <td>    0.009     0.012</td>\n",
       "</tr>\n",
       "<tr>\n",
       "  <th>x4</th>    <td>    0.0196</td> <td>    0.001</td> <td>   23.889</td> <td> 0.000</td> <td>    0.018     0.021</td>\n",
       "</tr>\n",
       "<tr>\n",
       "  <th>x5</th>    <td>    0.0093</td> <td>    0.001</td> <td>   11.029</td> <td> 0.000</td> <td>    0.008     0.011</td>\n",
       "</tr>\n",
       "</table>\n",
       "<table class=\"simpletable\">\n",
       "<tr>\n",
       "  <th>Omnibus:</th>       <td> 7.104</td> <th>  Durbin-Watson:     </th> <td>   2.014</td>\n",
       "</tr>\n",
       "<tr>\n",
       "  <th>Prob(Omnibus):</th> <td> 0.029</td> <th>  Jarque-Bera (JB):  </th> <td>   7.954</td>\n",
       "</tr>\n",
       "<tr>\n",
       "  <th>Skew:</th>          <td> 0.102</td> <th>  Prob(JB):          </th> <td>  0.0187</td>\n",
       "</tr>\n",
       "<tr>\n",
       "  <th>Kurtosis:</th>      <td> 3.308</td> <th>  Cond. No.          </th> <td>    1.61</td>\n",
       "</tr>\n",
       "</table>"
      ],
      "text/plain": [
       "<class 'statsmodels.iolib.summary.Summary'>\n",
       "\"\"\"\n",
       "                            OLS Regression Results                            \n",
       "==============================================================================\n",
       "Dep. Variable:                      y   R-squared:                       0.369\n",
       "Model:                            OLS   Adj. R-squared:                  0.367\n",
       "Method:                 Least Squares   F-statistic:                     163.3\n",
       "Date:                Tue, 28 Mar 2017   Prob (F-statistic):          7.60e-137\n",
       "Time:                        14:04:37   Log-Likelihood:                 2947.8\n",
       "No. Observations:                1402   AIC:                            -5884.\n",
       "Df Residuals:                    1396   BIC:                            -5852.\n",
       "Df Model:                           5                                         \n",
       "Covariance Type:            nonrobust                                         \n",
       "==============================================================================\n",
       "                 coef    std err          t      P>|t|      [95.0% Conf. Int.]\n",
       "------------------------------------------------------------------------------\n",
       "const          0.3012      0.001    380.805      0.000         0.300     0.303\n",
       "x1            -0.0049      0.001     -6.142      0.000        -0.007    -0.003\n",
       "x2             0.0064      0.001      7.549      0.000         0.005     0.008\n",
       "x3             0.0103      0.001     11.863      0.000         0.009     0.012\n",
       "x4             0.0196      0.001     23.889      0.000         0.018     0.021\n",
       "x5             0.0093      0.001     11.029      0.000         0.008     0.011\n",
       "==============================================================================\n",
       "Omnibus:                        7.104   Durbin-Watson:                   2.014\n",
       "Prob(Omnibus):                  0.029   Jarque-Bera (JB):                7.954\n",
       "Skew:                           0.102   Prob(JB):                       0.0187\n",
       "Kurtosis:                       3.308   Cond. No.                         1.61\n",
       "==============================================================================\n",
       "\n",
       "Warnings:\n",
       "[1] Standard Errors assume that the covariance matrix of the errors is correctly specified.\n",
       "\"\"\""
      ]
     },
     "execution_count": 106,
     "metadata": {},
     "output_type": "execute_result"
    }
   ],
   "source": [
    "y = y_train\n",
    "X = sm.add_constant(X_train_std)\n",
    "model1 = sm.OLS(endog=y, exog=X)\n",
    "result = model1.fit()\n",
    "result.summary()"
   ]
  },
  {
   "cell_type": "code",
   "execution_count": 107,
   "metadata": {
    "collapsed": false
   },
   "outputs": [
    {
     "ename": "ValueError",
     "evalue": "shapes (1402,6) and (351,5) not aligned: 6 (dim 1) != 351 (dim 0)",
     "output_type": "error",
     "traceback": [
      "\u001b[0;31m---------------------------------------------------------------------------\u001b[0m",
      "\u001b[0;31mValueError\u001b[0m                                Traceback (most recent call last)",
      "\u001b[0;32m<ipython-input-107-161022d39bf1>\u001b[0m in \u001b[0;36m<module>\u001b[0;34m()\u001b[0m\n\u001b[0;32m----> 1\u001b[0;31m \u001b[0mnp\u001b[0m\u001b[0;34m.\u001b[0m\u001b[0mmean\u001b[0m\u001b[0;34m(\u001b[0m\u001b[0;34m(\u001b[0m\u001b[0mmodel1\u001b[0m\u001b[0;34m.\u001b[0m\u001b[0mpredict\u001b[0m\u001b[0;34m(\u001b[0m\u001b[0mX_test_std\u001b[0m\u001b[0;34m)\u001b[0m\u001b[0;34m-\u001b[0m\u001b[0my_test\u001b[0m\u001b[0;34m)\u001b[0m\u001b[0;34m**\u001b[0m\u001b[0;36m2\u001b[0m\u001b[0;34m)\u001b[0m\u001b[0;34m\u001b[0m\u001b[0m\n\u001b[0m\u001b[1;32m      2\u001b[0m \u001b[0;34m\u001b[0m\u001b[0m\n\u001b[1;32m      3\u001b[0m \u001b[0;31m#I can't figure out whY I'm getting this error. I need an MSE here to compare to MSEs from RandomForest.\u001b[0m\u001b[0;34m\u001b[0m\u001b[0;34m\u001b[0m\u001b[0m\n",
      "\u001b[0;32m//anaconda/lib/python2.7/site-packages/statsmodels/regression/linear_model.pyc\u001b[0m in \u001b[0;36mpredict\u001b[0;34m(self, params, exog)\u001b[0m\n\u001b[1;32m    357\u001b[0m         \u001b[0;32mif\u001b[0m \u001b[0mexog\u001b[0m \u001b[0;32mis\u001b[0m \u001b[0mNone\u001b[0m\u001b[0;34m:\u001b[0m\u001b[0;34m\u001b[0m\u001b[0m\n\u001b[1;32m    358\u001b[0m             \u001b[0mexog\u001b[0m \u001b[0;34m=\u001b[0m \u001b[0mself\u001b[0m\u001b[0;34m.\u001b[0m\u001b[0mexog\u001b[0m\u001b[0;34m\u001b[0m\u001b[0m\n\u001b[0;32m--> 359\u001b[0;31m         \u001b[0;32mreturn\u001b[0m \u001b[0mnp\u001b[0m\u001b[0;34m.\u001b[0m\u001b[0mdot\u001b[0m\u001b[0;34m(\u001b[0m\u001b[0mexog\u001b[0m\u001b[0;34m,\u001b[0m \u001b[0mparams\u001b[0m\u001b[0;34m)\u001b[0m\u001b[0;34m\u001b[0m\u001b[0m\n\u001b[0m\u001b[1;32m    360\u001b[0m \u001b[0;34m\u001b[0m\u001b[0m\n\u001b[1;32m    361\u001b[0m \u001b[0;32mclass\u001b[0m \u001b[0mGLS\u001b[0m\u001b[0;34m(\u001b[0m\u001b[0mRegressionModel\u001b[0m\u001b[0;34m)\u001b[0m\u001b[0;34m:\u001b[0m\u001b[0;34m\u001b[0m\u001b[0m\n",
      "\u001b[0;31mValueError\u001b[0m: shapes (1402,6) and (351,5) not aligned: 6 (dim 1) != 351 (dim 0)"
     ]
    }
   ],
   "source": [
    "np.mean((model1.predict(X_test_std)-y_test)**2)\n",
    "\n",
    "#I can't figure out whY I'm getting this error. I need an MSE here to compare to MSEs from RandomForest."
   ]
  },
  {
   "cell_type": "code",
   "execution_count": 108,
   "metadata": {
    "collapsed": false
   },
   "outputs": [
    {
     "data": {
      "image/png": "[encoded data removed]",
      "text/plain": [
       "<matplotlib.figure.Figure at 0x11d47c590>"
      ]
     },
     "metadata": {},
     "output_type": "display_data"
    }
   ],
   "source": [
    "from scipy.stats import norm, normaltest, describe\n",
    "sns.distplot(result.resid, fit=norm, rug=True);"
   ]
  },
  {
   "cell_type": "code",
   "execution_count": 109,
   "metadata": {
    "collapsed": false
   },
   "outputs": [
    {
     "data": {
      "text/plain": [
       "0.02866802750245161"
      ]
     },
     "execution_count": 109,
     "metadata": {},
     "output_type": "execute_result"
    }
   ],
   "source": [
    "stat, p = normaltest(result.resid)\n",
    "p"
   ]
  },
  {
   "cell_type": "markdown",
   "metadata": {},
   "source": [
    "Note: There DOES appear to be significance to all of the correlations, based on 95% confidence intervals - negative for Age (x1), positive for each other variable, with LD% (x4) being the most important. HOWEVER - the residuals of even the scaled data are not normally distributed enough to use this model (close, but I want p > 5%. Due to the non-normality of the model, I'm going to move on to a different method."
   ]
  },
  {
   "cell_type": "code",
   "execution_count": 120,
   "metadata": {
    "collapsed": false
   },
   "outputs": [
    {
     "data": {
      "text/plain": [
       "RandomForestRegressor(bootstrap=True, criterion='mse', max_depth=None,\n",
       "           max_features='auto', max_leaf_nodes=None,\n",
       "           min_impurity_split=1e-07, min_samples_leaf=1,\n",
       "           min_samples_split=2, min_weight_fraction_leaf=0.0,\n",
       "           n_estimators=10, n_jobs=1, oob_score=False, random_state=None,\n",
       "           verbose=0, warm_start=False)"
      ]
     },
     "execution_count": 120,
     "metadata": {},
     "output_type": "execute_result"
    }
   ],
   "source": [
    "from sklearn.ensemble import RandomForestRegressor\n",
    "\n",
    "X, y = batters.loc[:, ['Age', 'SBperPA', 'GB', 'LD', 'HRperFB']], batters.loc[:, 'BABIP']\n",
    "\n",
    "model2 = RandomForestRegressor(n_estimators = 10)\n",
    "model2.fit(X, y)"
   ]
  },
  {
   "cell_type": "code",
   "execution_count": 121,
   "metadata": {
    "collapsed": false
   },
   "outputs": [
    {
     "data": {
      "text/html": [
       "<div>\n",
       "<table border=\"1\" class=\"dataframe\">\n",
       "  <thead>\n",
       "    <tr style=\"text-align: right;\">\n",
       "      <th></th>\n",
       "      <th>Features</th>\n",
       "      <th>Importance Score</th>\n",
       "    </tr>\n",
       "  </thead>\n",
       "  <tbody>\n",
       "    <tr>\n",
       "      <th>3</th>\n",
       "      <td>LD</td>\n",
       "      <td>0.273168</td>\n",
       "    </tr>\n",
       "    <tr>\n",
       "      <th>1</th>\n",
       "      <td>SBperPA</td>\n",
       "      <td>0.206251</td>\n",
       "    </tr>\n",
       "    <tr>\n",
       "      <th>4</th>\n",
       "      <td>HRperFB</td>\n",
       "      <td>0.202297</td>\n",
       "    </tr>\n",
       "    <tr>\n",
       "      <th>2</th>\n",
       "      <td>GB</td>\n",
       "      <td>0.169455</td>\n",
       "    </tr>\n",
       "    <tr>\n",
       "      <th>0</th>\n",
       "      <td>Age</td>\n",
       "      <td>0.148829</td>\n",
       "    </tr>\n",
       "  </tbody>\n",
       "</table>\n",
       "</div>"
      ],
      "text/plain": [
       "  Features  Importance Score\n",
       "3       LD          0.273168\n",
       "1  SBperPA          0.206251\n",
       "4  HRperFB          0.202297\n",
       "2       GB          0.169455\n",
       "0      Age          0.148829"
      ]
     },
     "execution_count": 121,
     "metadata": {},
     "output_type": "execute_result"
    }
   ],
   "source": [
    "features = X.columns\n",
    "feature_importances = model2.feature_importances_\n",
    "\n",
    "features_df = pd.DataFrame({'Features': features, 'Importance Score': feature_importances})\n",
    "features_df.sort_values('Importance Score', inplace=True, ascending=False)\n",
    "\n",
    "features_df"
   ]
  },
  {
   "cell_type": "code",
   "execution_count": 122,
   "metadata": {
    "collapsed": false
   },
   "outputs": [
    {
     "name": "stdout",
     "output_type": "stream",
     "text": [
      "CV MSE [-0.0011398  -0.00104061 -0.00101302], Average MSE -0.00106447629179\n",
      "n trees: 1, CV MSE [-0.00186408 -0.00185516 -0.0019818 ], Average MSE -0.00190034413515\n",
      "n trees: 6, CV MSE [-0.00106563 -0.00112354 -0.00114139], Average MSE -0.00111018537983\n",
      "n trees: 11, CV MSE [-0.00102893 -0.0010397  -0.0010109 ], Average MSE -0.00102651222656\n",
      "n trees: 16, CV MSE [-0.0010386  -0.00104433 -0.00098883], Average MSE -0.00102391921379\n",
      "n trees: 21, CV MSE [-0.00103899 -0.00099085 -0.0009346 ], Average MSE -0.00098815017696\n",
      "n trees: 26, CV MSE [-0.00104226 -0.0009908  -0.00095177], Average MSE -0.000994940596459\n",
      "n trees: 31, CV MSE [-0.00100957 -0.00099298 -0.0009073 ], Average MSE -0.00096994862756\n",
      "n trees: 36, CV MSE [-0.00101191 -0.00100058 -0.00093565], Average MSE -0.000982714633994\n",
      "n trees: 41, CV MSE [-0.00101    -0.00097496 -0.00094202], Average MSE -0.000975661472951\n",
      "n trees: 46, CV MSE [-0.0010008  -0.00098111 -0.00093695], Average MSE -0.000972952763647\n",
      "n trees: 51, CV MSE [-0.0009966  -0.00099866 -0.00093105], Average MSE -0.000975437478088\n",
      "n trees: 56, CV MSE [-0.00101231 -0.00097047 -0.00093027], Average MSE -0.00097101653696\n",
      "n trees: 61, CV MSE [-0.0009878 -0.0009866 -0.0009355], Average MSE -0.000969966070993\n",
      "n trees: 66, CV MSE [-0.0009756  -0.0009891  -0.00091601], Average MSE -0.00096023712119\n"
     ]
    },
    {
     "data": {
      "image/png": "[encoded data removed]",
      "text/plain": [
       "<matplotlib.figure.Figure at 0x11d91d4d0>"
      ]
     },
     "metadata": {},
     "output_type": "display_data"
    }
   ],
   "source": [
    "from sklearn.cross_validation import cross_val_score\n",
    "\n",
    "scores = cross_val_score(model2, X, y, scoring='neg_mean_squared_error')\n",
    "print('CV MSE {}, Average MSE {}'.format(scores, scores.mean()))\n",
    "\n",
    "mse_scores = {}\n",
    "for n_trees in range(1, 70, 5):\n",
    "    model = RandomForestRegressor(n_estimators = n_trees)\n",
    "    scores = cross_val_score(model, X, y, scoring='neg_mean_squared_error')\n",
    "    print('n trees: {}, CV MSE {}, Average MSE {}'.format(n_trees, scores, scores.mean()))\n",
    "    mse_scores[n_trees] = scores.mean()\n",
    "pd.Series(mse_scores, name='MSE Scores').plot();"
   ]
  },
  {
   "cell_type": "markdown",
   "metadata": {},
   "source": [
    "Note: The MSE decreases slow down between and 10 and 20. I will use 20 going forward."
   ]
  },
  {
   "cell_type": "code",
   "execution_count": 123,
   "metadata": {
    "collapsed": false
   },
   "outputs": [
    {
     "data": {
      "text/plain": [
       "RandomForestRegressor(bootstrap=True, criterion='mse', max_depth=None,\n",
       "           max_features='auto', max_leaf_nodes=None,\n",
       "           min_impurity_split=1e-07, min_samples_leaf=1,\n",
       "           min_samples_split=2, min_weight_fraction_leaf=0.0,\n",
       "           n_estimators=20, n_jobs=1, oob_score=False, random_state=None,\n",
       "           verbose=0, warm_start=False)"
      ]
     },
     "execution_count": 123,
     "metadata": {},
     "output_type": "execute_result"
    }
   ],
   "source": [
    "model2 = RandomForestRegressor(n_estimators = 20)\n",
    "model2.fit(X, y)"
   ]
  },
  {
   "cell_type": "code",
   "execution_count": 124,
   "metadata": {
    "collapsed": false
   },
   "outputs": [
    {
     "data": {
      "text/html": [
       "<div>\n",
       "<table border=\"1\" class=\"dataframe\">\n",
       "  <thead>\n",
       "    <tr style=\"text-align: right;\">\n",
       "      <th></th>\n",
       "      <th>Features</th>\n",
       "      <th>Importance Score</th>\n",
       "    </tr>\n",
       "  </thead>\n",
       "  <tbody>\n",
       "    <tr>\n",
       "      <th>3</th>\n",
       "      <td>LD</td>\n",
       "      <td>0.274665</td>\n",
       "    </tr>\n",
       "    <tr>\n",
       "      <th>4</th>\n",
       "      <td>HRperFB</td>\n",
       "      <td>0.200924</td>\n",
       "    </tr>\n",
       "    <tr>\n",
       "      <th>1</th>\n",
       "      <td>SBperPA</td>\n",
       "      <td>0.200270</td>\n",
       "    </tr>\n",
       "    <tr>\n",
       "      <th>2</th>\n",
       "      <td>GB</td>\n",
       "      <td>0.178018</td>\n",
       "    </tr>\n",
       "    <tr>\n",
       "      <th>0</th>\n",
       "      <td>Age</td>\n",
       "      <td>0.146124</td>\n",
       "    </tr>\n",
       "  </tbody>\n",
       "</table>\n",
       "</div>"
      ],
      "text/plain": [
       "  Features  Importance Score\n",
       "3       LD          0.274665\n",
       "4  HRperFB          0.200924\n",
       "1  SBperPA          0.200270\n",
       "2       GB          0.178018\n",
       "0      Age          0.146124"
      ]
     },
     "execution_count": 124,
     "metadata": {},
     "output_type": "execute_result"
    }
   ],
   "source": [
    "features = X.columns\n",
    "feature_importances = model2.feature_importances_\n",
    "\n",
    "features_df = pd.DataFrame({'Features': features, 'Importance Score': feature_importances})\n",
    "features_df.sort_values('Importance Score', inplace=True, ascending=False)\n",
    "\n",
    "features_df"
   ]
  },
  {
   "cell_type": "markdown",
   "metadata": {},
   "source": [
    "As expected, Line Drive % is the most important predictor. The others are less so - the least important is age, which as we know from earlier, is negatively correlated with BABIP."
   ]
  },
  {
   "cell_type": "code",
   "execution_count": 125,
   "metadata": {
    "collapsed": false
   },
   "outputs": [
    {
     "name": "stderr",
     "output_type": "stream",
     "text": [
      "//anaconda/lib/python2.7/site-packages/sklearn/utils/validation.py:395: DeprecationWarning: Passing 1d arrays as data is deprecated in 0.17 and will raise ValueError in 0.19. Reshape your data either using X.reshape(-1, 1) if your data has a single feature or X.reshape(1, -1) if it contains a single sample.\n",
      "  DeprecationWarning)\n"
     ]
    },
    {
     "data": {
      "text/plain": [
       "array([ 0.2422])"
      ]
     },
     "execution_count": 125,
     "metadata": {},
     "output_type": "execute_result"
    }
   ],
   "source": [
    "#Just to see how the model works, I'll predict the 2016 BABIP of a few notable players.\n",
    "\n",
    "BryceHarper_2016 = {'Age': 23, 'SBperPA': 0.033, 'GB': 0.404, 'LD': 0.172, 'HRperFB': 0.143}\n",
    "df = pd.Series(data=BryceHarper_2016, index = BryceHarper_2016.keys())\n",
    "model2.predict(df)"
   ]
  },
  {
   "cell_type": "code",
   "execution_count": 126,
   "metadata": {
    "collapsed": false
   },
   "outputs": [
    {
     "name": "stderr",
     "output_type": "stream",
     "text": [
      "//anaconda/lib/python2.7/site-packages/sklearn/utils/validation.py:395: DeprecationWarning: Passing 1d arrays as data is deprecated in 0.17 and will raise ValueError in 0.19. Reshape your data either using X.reshape(-1, 1) if your data has a single feature or X.reshape(1, -1) if it contains a single sample.\n",
      "  DeprecationWarning)\n"
     ]
    },
    {
     "data": {
      "text/plain": [
       "array([ 0.2348])"
      ]
     },
     "execution_count": 126,
     "metadata": {},
     "output_type": "execute_result"
    }
   ],
   "source": [
    "AlbertPujols_2016 = {'Age': 36, 'SBperPA': 0.006, 'GB': 0.439, 'LD': 0.166, 'HRperFB': 0.150}\n",
    "df = pd.Series(data=AlbertPujols_2016, index = AlbertPujols_2016.keys())\n",
    "model2.predict(df)"
   ]
  },
  {
   "cell_type": "code",
   "execution_count": 127,
   "metadata": {
    "collapsed": false
   },
   "outputs": [
    {
     "name": "stderr",
     "output_type": "stream",
     "text": [
      "//anaconda/lib/python2.7/site-packages/sklearn/utils/validation.py:395: DeprecationWarning: Passing 1d arrays as data is deprecated in 0.17 and will raise ValueError in 0.19. Reshape your data either using X.reshape(-1, 1) if your data has a single feature or X.reshape(1, -1) if it contains a single sample.\n",
      "  DeprecationWarning)\n"
     ]
    },
    {
     "data": {
      "text/plain": [
       "array([ 0.2475])"
      ]
     },
     "execution_count": 127,
     "metadata": {},
     "output_type": "execute_result"
    }
   ],
   "source": [
    "JoseAltuve_2016 = {'Age': 26, 'SBperPA': 0.042, 'GB': 0.416, 'LD': 0.262, 'HRperFB': 0.130}\n",
    "df = pd.Series(data=JoseAltuve_2016, index = JoseAltuve_2016.keys())\n",
    "model2.predict(df)"
   ]
  },
  {
   "cell_type": "markdown",
   "metadata": {},
   "source": [
    "NOTE: Jose Altuve had one of the highest line-drive percentages in the league (26.2%) while also being relatively young (26), yet this is predicting a well below average BABIP (league average = .301). Is this because of the standardization that was done? It looks like every value is way too low. How do I deal with this if I want to use the model to make real predictions going forward?"
   ]
  }
 ],
 "metadata": {
  "kernelspec": {
   "display_name": "Python [conda root]",
   "language": "python",
   "name": "conda-root-py"
  },
  "language_info": {
   "codemirror_mode": {
    "name": "ipython",
    "version": 2
   },
   "file_extension": ".py",
   "mimetype": "text/x-python",
   "name": "python",
   "nbconvert_exporter": "python",
   "pygments_lexer": "ipython2",
   "version": "2.7.12"
  }
 },
 "nbformat": 4,
 "nbformat_minor": 1
}
