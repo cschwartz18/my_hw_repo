{
 "cells": [
  {
   "cell_type": "code",
   "execution_count": 2,
   "metadata": {
    "collapsed": true
   },
   "outputs": [],
   "source": [
    "from __future__ import division\n",
    "import pandas as pd\n",
    "import numpy as np\n",
    "import statsmodels.api as sm\n",
    "import numpy as np\n",
    "import seaborn as sns\n",
    "%matplotlib inline"
   ]
  },
  {
   "cell_type": "code",
   "execution_count": 4,
   "metadata": {
    "collapsed": false
   },
   "outputs": [
    {
     "data": {
      "text/html": [
       "<div>\n",
       "<table border=\"1\" class=\"dataframe\">\n",
       "  <thead>\n",
       "    <tr style=\"text-align: right;\">\n",
       "      <th></th>\n",
       "      <th>Age</th>\n",
       "      <th>SBperPA</th>\n",
       "      <th>BABIP</th>\n",
       "      <th>GB</th>\n",
       "      <th>LD</th>\n",
       "      <th>HRperFB</th>\n",
       "    </tr>\n",
       "  </thead>\n",
       "  <tbody>\n",
       "    <tr>\n",
       "      <th>count</th>\n",
       "      <td>1753.000</td>\n",
       "      <td>1753.000</td>\n",
       "      <td>1753.000</td>\n",
       "      <td>1753.000</td>\n",
       "      <td>1753.000</td>\n",
       "      <td>1753.000</td>\n",
       "    </tr>\n",
       "    <tr>\n",
       "      <th>mean</th>\n",
       "      <td>28.547</td>\n",
       "      <td>0.015</td>\n",
       "      <td>0.301</td>\n",
       "      <td>0.439</td>\n",
       "      <td>0.205</td>\n",
       "      <td>0.108</td>\n",
       "    </tr>\n",
       "    <tr>\n",
       "      <th>std</th>\n",
       "      <td>3.984</td>\n",
       "      <td>0.019</td>\n",
       "      <td>0.037</td>\n",
       "      <td>0.068</td>\n",
       "      <td>0.031</td>\n",
       "      <td>0.058</td>\n",
       "    </tr>\n",
       "    <tr>\n",
       "      <th>min</th>\n",
       "      <td>19.000</td>\n",
       "      <td>0.000</td>\n",
       "      <td>0.185</td>\n",
       "      <td>0.190</td>\n",
       "      <td>0.120</td>\n",
       "      <td>0.000</td>\n",
       "    </tr>\n",
       "    <tr>\n",
       "      <th>25%</th>\n",
       "      <td>26.000</td>\n",
       "      <td>0.003</td>\n",
       "      <td>0.275</td>\n",
       "      <td>0.390</td>\n",
       "      <td>0.190</td>\n",
       "      <td>0.066</td>\n",
       "    </tr>\n",
       "    <tr>\n",
       "      <th>50%</th>\n",
       "      <td>28.000</td>\n",
       "      <td>0.009</td>\n",
       "      <td>0.301</td>\n",
       "      <td>0.430</td>\n",
       "      <td>0.210</td>\n",
       "      <td>0.100</td>\n",
       "    </tr>\n",
       "    <tr>\n",
       "      <th>75%</th>\n",
       "      <td>31.000</td>\n",
       "      <td>0.021</td>\n",
       "      <td>0.324</td>\n",
       "      <td>0.480</td>\n",
       "      <td>0.220</td>\n",
       "      <td>0.140</td>\n",
       "    </tr>\n",
       "    <tr>\n",
       "      <th>max</th>\n",
       "      <td>42.000</td>\n",
       "      <td>0.142</td>\n",
       "      <td>0.411</td>\n",
       "      <td>0.670</td>\n",
       "      <td>0.310</td>\n",
       "      <td>0.400</td>\n",
       "    </tr>\n",
       "  </tbody>\n",
       "</table>\n",
       "</div>"
      ],
      "text/plain": [
       "            Age   SBperPA     BABIP        GB        LD   HRperFB\n",
       "count  1753.000  1753.000  1753.000  1753.000  1753.000  1753.000\n",
       "mean     28.547     0.015     0.301     0.439     0.205     0.108\n",
       "std       3.984     0.019     0.037     0.068     0.031     0.058\n",
       "min      19.000     0.000     0.185     0.190     0.120     0.000\n",
       "25%      26.000     0.003     0.275     0.390     0.190     0.066\n",
       "50%      28.000     0.009     0.301     0.430     0.210     0.100\n",
       "75%      31.000     0.021     0.324     0.480     0.220     0.140\n",
       "max      42.000     0.142     0.411     0.670     0.310     0.400"
      ]
     },
     "execution_count": 4,
     "metadata": {},
     "output_type": "execute_result"
    }
   ],
   "source": [
    "#The below contains all of the necessary splicing and renaming, etc., done during my exploratory analysis.\n",
    "\n",
    "df = pd.read_csv(\"../my_hw_repo/Fangraphs_2012.csv\")\n",
    "df2 = pd.read_csv(\"../my_hw_repo/Fangraphs_2013.csv\")\n",
    "df3 = pd.read_csv(\"../my_hw_repo/Fangraphs_2014.csv\")\n",
    "df4 = pd.read_csv(\"../my_hw_repo/Fangraphs_2015.csv\")\n",
    "df5 = pd.read_csv(\"../my_hw_repo/Fangraphs_2016.csv\")\n",
    "\n",
    "batters = df.append(df2).append(df3).append(df4).append(df5)\n",
    "#Combined 2012-2016 data into one dataframe called \"batters\"\n",
    "\n",
    "batters = batters[[\"Age\", \"PA\", \"SB\", \"BABIP\", \"GB%\", \"LD%\", \"HR/FB\"]]\n",
    "#Kept the features I think may be relevant\n",
    "\n",
    "batters['GB%'] = batters['GB%'].apply(lambda x: x[0:3]).astype(float)/100\n",
    "batters['LD%'] = batters['LD%'].apply(lambda x: x[0:3]).astype(float)/100\n",
    "batters['HR/FB'] = batters['HR/FB'].apply(lambda x: x[0:3]).astype(float)/100\n",
    "#Converted the strings to floats, confirmed below by showing data types\n",
    "\n",
    "batters = batters[batters['PA'] > 200]\n",
    "\n",
    "batters['SB'] = batters['SB']/batters['PA'] #Change from raw SB totals to SB/PA - a proxy for speed\n",
    "batters = batters[[\"Age\", \"SB\", \"BABIP\", \"GB%\", \"LD%\", \"HR/FB\"]] #Deleted PA variable, not relevant anymore\n",
    "batters.rename(columns = {'SB':'SBperPA', 'GB%':'GB', 'LD%':'LD', 'HR/FB':'HRperFB'}, inplace = True)\n",
    "#Renamed columns for various reasons - mostly so they can be used later without % or / characters in them\n",
    "\n",
    "batters.describe().round(3)"
   ]
  },
  {
   "cell_type": "code",
   "execution_count": 5,
   "metadata": {
    "collapsed": false
   },
   "outputs": [],
   "source": [
    "batters = pd.get_dummies(data=batters, columns=['Age'], drop_first=True) #Since integer Age is categorical"
   ]
  },
  {
   "cell_type": "code",
   "execution_count": 7,
   "metadata": {
    "collapsed": false
   },
   "outputs": [
    {
     "name": "stderr",
     "output_type": "stream",
     "text": [
      "//anaconda/lib/python2.7/site-packages/sklearn/cross_validation.py:44: DeprecationWarning: This module was deprecated in version 0.18 in favor of the model_selection module into which all the refactored classes and functions are moved. Also note that the interface of the new CV iterators are different from that of this module. This module will be removed in 0.20.\n",
      "  \"This module will be removed in 0.20.\", DeprecationWarning)\n"
     ]
    }
   ],
   "source": [
    "from sklearn.cross_validation import train_test_split\n",
    "\n",
    "X, y = batters.iloc[:, :].drop('BABIP', axis=1).values, batters.loc[:, 'BABIP'].values\n",
    "X_train, X_test, y_train, y_test = train_test_split(X, y, test_size=0.2, random_state=0)"
   ]
  },
  {
   "cell_type": "code",
   "execution_count": 8,
   "metadata": {
    "collapsed": false
   },
   "outputs": [],
   "source": [
    "X_train = pd.DataFrame(X_train)\n",
    "X_test = pd.DataFrame(X_test) #Have to make these dataframes "
   ]
  },
  {
   "cell_type": "code",
   "execution_count": 9,
   "metadata": {
    "collapsed": false
   },
   "outputs": [],
   "source": [
    "from sklearn.preprocessing import StandardScaler\n",
    "\n",
    "stdsc = StandardScaler()\n",
    "X_train_std = pd.DataFrame(stdsc.fit_transform(X_train.iloc[:,:4])).join(X_train.iloc[:,4:])\n",
    "X_test_std = pd.DataFrame(stdsc.transform(X_test.iloc[:,:4])).join(X_test.iloc[:,4:])"
   ]
  },
  {
   "cell_type": "code",
   "execution_count": 10,
   "metadata": {
    "collapsed": false
   },
   "outputs": [
    {
     "name": "stdout",
     "output_type": "stream",
     "text": [
      "[ 0.00655437  0.01044925  0.01958868  0.00938843 -0.02194798  0.00547351\n",
      "  0.00029066 -0.00395099 -0.00856104 -0.01278663 -0.00839789 -0.00747329\n",
      " -0.01429457 -0.0139862  -0.00992067 -0.01086467 -0.01978408 -0.01740495\n",
      " -0.02319084 -0.01576991 -0.02396921 -0.01655189 -0.02337575 -0.04187694\n",
      " -0.00685559 -0.04432792 -0.05789685]\n",
      "0.313412051577\n"
     ]
    }
   ],
   "source": [
    "from sklearn import linear_model, metrics\n",
    "\n",
    "model1 = linear_model.LinearRegression().fit(X_train_std, y_train)\n",
    "\n",
    "print model1.coef_\n",
    "print model1.intercept_"
   ]
  },
  {
   "cell_type": "code",
   "execution_count": 11,
   "metadata": {
    "collapsed": false
   },
   "outputs": [
    {
     "data": {
      "text/plain": [
       "0.00084267149891637384"
      ]
     },
     "execution_count": 11,
     "metadata": {},
     "output_type": "execute_result"
    }
   ],
   "source": [
    "from sklearn import linear_model, metrics\n",
    "metrics.mean_squared_error(y_test, model1.predict(X_test_std))"
   ]
  },
  {
   "cell_type": "code",
   "execution_count": 16,
   "metadata": {
    "collapsed": false
   },
   "outputs": [
    {
     "data": {
      "text/plain": [
       "GridSearchCV(cv=5, error_score='raise',\n",
       "       estimator=Ridge(alpha=1.0, copy_X=True, fit_intercept=True, max_iter=None,\n",
       "   normalize=False, random_state=None, solver='auto', tol=0.001),\n",
       "       fit_params={}, iid=True, n_jobs=1,\n",
       "       param_grid={'alpha': array([  1.00000e-10,   1.00000e-09,   1.00000e-08,   1.00000e-07,\n",
       "         1.00000e-06,   1.00000e-05,   1.00000e-04,   1.00000e-03,\n",
       "         1.00000e-02,   1.00000e-01,   1.00000e+00,   1.00000e+01,\n",
       "         1.00000e+02,   1.00000e+03,   1.00000e+04,   1.00000e+05,\n",
       "         1.00000e+06,   1.00000e+07,   1.00000e+08,   1.00000e+09,\n",
       "         1.00000e+10]), 'fit_intercept': [True, False]},\n",
       "       pre_dispatch='2*n_jobs', refit=True, return_train_score=True,\n",
       "       scoring='neg_mean_squared_error', verbose=0)"
      ]
     },
     "execution_count": 16,
     "metadata": {},
     "output_type": "execute_result"
    }
   ],
   "source": [
    "from sklearn.model_selection import GridSearchCV\n",
    "\n",
    "alphas = np.logspace(-10, 10, 21)\n",
    "gs = GridSearchCV(\n",
    "    cv=5,\n",
    "    estimator=linear_model.Ridge(),\n",
    "    param_grid={'alpha': alphas, 'fit_intercept': [True, False]},\n",
    "    scoring='neg_mean_squared_error')\n",
    "\n",
    "gs.fit(X_train_std, y_train)"
   ]
  },
  {
   "cell_type": "code",
   "execution_count": 18,
   "metadata": {
    "collapsed": false
   },
   "outputs": [
    {
     "name": "stdout",
     "output_type": "stream",
     "text": [
      "Ridge(alpha=10.0, copy_X=True, fit_intercept=True, max_iter=None,\n",
      "   normalize=False, random_state=None, solver='auto', tol=0.001)\n"
     ]
    }
   ],
   "source": [
    "print gs.best_estimator_"
   ]
  },
  {
   "cell_type": "code",
   "execution_count": 19,
   "metadata": {
    "collapsed": true
   },
   "outputs": [],
   "source": [
    "model2 = gs.best_estimator_"
   ]
  },
  {
   "cell_type": "code",
   "execution_count": 20,
   "metadata": {
    "collapsed": false
   },
   "outputs": [
    {
     "data": {
      "text/plain": [
       "0.00084137153036277783"
      ]
     },
     "execution_count": 20,
     "metadata": {},
     "output_type": "execute_result"
    }
   ],
   "source": [
    "metrics.mean_squared_error(y_test, model2.predict(X_test_std))"
   ]
  },
  {
   "cell_type": "code",
   "execution_count": 50,
   "metadata": {
    "collapsed": false
   },
   "outputs": [
    {
     "name": "stdout",
     "output_type": "stream",
     "text": [
      "[ 0.00669163  0.01029328  0.01939485  0.00939276 -0.00232896  0.01126561\n",
      "  0.01127872  0.00874847  0.00473134  0.00100419  0.00507825  0.00589248\n",
      " -0.00042161 -0.00011241  0.00361522  0.00274967 -0.00528727 -0.00305776\n",
      " -0.0077511  -0.00145299 -0.00751293 -0.00170497 -0.00468393 -0.01243211\n",
      "  0.00203927 -0.00507575 -0.00731281]\n",
      "0.299551734021\n"
     ]
    }
   ],
   "source": [
    "print model2.coef_\n",
    "print model2.intercept_"
   ]
  },
  {
   "cell_type": "markdown",
   "metadata": {},
   "source": [
    "This IS slightly lower than non-regularized. Sweet"
   ]
  },
  {
   "cell_type": "code",
   "execution_count": 22,
   "metadata": {
    "collapsed": false
   },
   "outputs": [
    {
     "data": {
      "image/png": "[encoded data removed]",
      "text/plain": [
       "<matplotlib.figure.Figure at 0x1194b65d0>"
      ]
     },
     "metadata": {},
     "output_type": "display_data"
    }
   ],
   "source": [
    "from scipy.stats import norm, normaltest, describe\n",
    "\n",
    "resid = np.array(model2.predict(X_test_std)-y_test)\n",
    "sns.distplot(resid, fit=norm, rug=True);"
   ]
  },
  {
   "cell_type": "code",
   "execution_count": 23,
   "metadata": {
    "collapsed": false
   },
   "outputs": [
    {
     "data": {
      "text/plain": [
       "0.59037802491278923"
      ]
     },
     "execution_count": 23,
     "metadata": {},
     "output_type": "execute_result"
    }
   ],
   "source": [
    "stat, p = normaltest(resid)\n",
    "p"
   ]
  },
  {
   "cell_type": "markdown",
   "metadata": {},
   "source": [
    "Note: This looks pretty good - the residual is approximately normally distributed, and the MSE relatively low. I still want to create a random forest model, as well, for comparison's sake."
   ]
  },
  {
   "cell_type": "code",
   "execution_count": 24,
   "metadata": {
    "collapsed": false
   },
   "outputs": [
    {
     "data": {
      "text/plain": [
       "RandomForestRegressor(bootstrap=True, criterion='mse', max_depth=None,\n",
       "           max_features='auto', max_leaf_nodes=None,\n",
       "           min_impurity_split=1e-07, min_samples_leaf=1,\n",
       "           min_samples_split=2, min_weight_fraction_leaf=0.0,\n",
       "           n_estimators=100, n_jobs=1, oob_score=False, random_state=None,\n",
       "           verbose=0, warm_start=False)"
      ]
     },
     "execution_count": 24,
     "metadata": {},
     "output_type": "execute_result"
    }
   ],
   "source": [
    "from sklearn.ensemble import RandomForestRegressor\n",
    "\n",
    "model3 = RandomForestRegressor(n_estimators = 100)\n",
    "model3.fit(X_train_std, y_train)"
   ]
  },
  {
   "cell_type": "code",
   "execution_count": 27,
   "metadata": {
    "collapsed": false
   },
   "outputs": [
    {
     "data": {
      "text/plain": [
       "GridSearchCV(cv=6, error_score='raise',\n",
       "       estimator=RandomForestRegressor(bootstrap=True, criterion='mse', max_depth=None,\n",
       "           max_features='auto', max_leaf_nodes=None,\n",
       "           min_impurity_split=1e-07, min_samples_leaf=1,\n",
       "           min_samples_split=2, min_weight_fraction_leaf=0.0,\n",
       "           n_estimators=10, n_jobs=1, oob_score=False, random_state=30,\n",
       "           verbose=0, warm_start=False),\n",
       "       fit_params={}, iid=True, n_jobs=1,\n",
       "       param_grid={'n_estimators': [200, 300], 'max_features': [2, 3, 4], 'min_samples_split': [5, 20, 50]},\n",
       "       pre_dispatch='2*n_jobs', refit=True, return_train_score=True,\n",
       "       scoring=None, verbose=0)"
      ]
     },
     "execution_count": 27,
     "metadata": {},
     "output_type": "execute_result"
    }
   ],
   "source": [
    "model4 = RandomForestRegressor(random_state=30)\n",
    "param_grid = { \"n_estimators\"      : [200,300],\n",
    "           \"max_features\"      : [2,3,4],\n",
    "           \"min_samples_split\" : [5, 20, 50]}\n",
    "grid_search = GridSearchCV(model4, param_grid, cv=6)\n",
    "grid_search.fit(X_train_std, y_train)"
   ]
  },
  {
   "cell_type": "code",
   "execution_count": 28,
   "metadata": {
    "collapsed": false
   },
   "outputs": [
    {
     "data": {
      "text/plain": [
       "RandomForestRegressor(bootstrap=True, criterion='mse', max_depth=None,\n",
       "           max_features=4, max_leaf_nodes=None, min_impurity_split=1e-07,\n",
       "           min_samples_leaf=1, min_samples_split=5,\n",
       "           min_weight_fraction_leaf=0.0, n_estimators=200, n_jobs=1,\n",
       "           oob_score=False, random_state=30, verbose=0, warm_start=False)"
      ]
     },
     "execution_count": 28,
     "metadata": {},
     "output_type": "execute_result"
    }
   ],
   "source": [
    "grid_search.best_estimator_"
   ]
  },
  {
   "cell_type": "code",
   "execution_count": 29,
   "metadata": {
    "collapsed": false
   },
   "outputs": [],
   "source": [
    "model5 = grid_search.best_estimator_"
   ]
  },
  {
   "cell_type": "code",
   "execution_count": 30,
   "metadata": {
    "collapsed": false
   },
   "outputs": [
    {
     "data": {
      "text/plain": [
       "0.00090485365263669713"
      ]
     },
     "execution_count": 30,
     "metadata": {},
     "output_type": "execute_result"
    }
   ],
   "source": [
    "metrics.mean_squared_error(y_test, model5.predict(X_test_std))"
   ]
  },
  {
   "cell_type": "code",
   "execution_count": 31,
   "metadata": {
    "collapsed": false
   },
   "outputs": [
    {
     "data": {
      "text/html": [
       "<div>\n",
       "<table border=\"1\" class=\"dataframe\">\n",
       "  <thead>\n",
       "    <tr style=\"text-align: right;\">\n",
       "      <th></th>\n",
       "      <th>Features</th>\n",
       "      <th>Importance Score</th>\n",
       "    </tr>\n",
       "  </thead>\n",
       "  <tbody>\n",
       "    <tr>\n",
       "      <th>2</th>\n",
       "      <td>LD</td>\n",
       "      <td>0.302857</td>\n",
       "    </tr>\n",
       "    <tr>\n",
       "      <th>0</th>\n",
       "      <td>SBperPA</td>\n",
       "      <td>0.184971</td>\n",
       "    </tr>\n",
       "    <tr>\n",
       "      <th>1</th>\n",
       "      <td>GB</td>\n",
       "      <td>0.158170</td>\n",
       "    </tr>\n",
       "    <tr>\n",
       "      <th>3</th>\n",
       "      <td>HRperFB</td>\n",
       "      <td>0.158131</td>\n",
       "    </tr>\n",
       "    <tr>\n",
       "      <th>7</th>\n",
       "      <td>Age_23</td>\n",
       "      <td>0.014073</td>\n",
       "    </tr>\n",
       "    <tr>\n",
       "      <th>6</th>\n",
       "      <td>Age_22</td>\n",
       "      <td>0.013905</td>\n",
       "    </tr>\n",
       "    <tr>\n",
       "      <th>10</th>\n",
       "      <td>Age_26</td>\n",
       "      <td>0.013224</td>\n",
       "    </tr>\n",
       "    <tr>\n",
       "      <th>12</th>\n",
       "      <td>Age_28</td>\n",
       "      <td>0.013051</td>\n",
       "    </tr>\n",
       "    <tr>\n",
       "      <th>11</th>\n",
       "      <td>Age_27</td>\n",
       "      <td>0.012632</td>\n",
       "    </tr>\n",
       "    <tr>\n",
       "      <th>15</th>\n",
       "      <td>Age_31</td>\n",
       "      <td>0.011788</td>\n",
       "    </tr>\n",
       "    <tr>\n",
       "      <th>16</th>\n",
       "      <td>Age_32</td>\n",
       "      <td>0.011468</td>\n",
       "    </tr>\n",
       "    <tr>\n",
       "      <th>13</th>\n",
       "      <td>Age_29</td>\n",
       "      <td>0.011030</td>\n",
       "    </tr>\n",
       "    <tr>\n",
       "      <th>9</th>\n",
       "      <td>Age_25</td>\n",
       "      <td>0.010797</td>\n",
       "    </tr>\n",
       "    <tr>\n",
       "      <th>14</th>\n",
       "      <td>Age_30</td>\n",
       "      <td>0.010699</td>\n",
       "    </tr>\n",
       "    <tr>\n",
       "      <th>8</th>\n",
       "      <td>Age_24</td>\n",
       "      <td>0.010587</td>\n",
       "    </tr>\n",
       "    <tr>\n",
       "      <th>17</th>\n",
       "      <td>Age_33</td>\n",
       "      <td>0.010587</td>\n",
       "    </tr>\n",
       "    <tr>\n",
       "      <th>18</th>\n",
       "      <td>Age_34</td>\n",
       "      <td>0.009702</td>\n",
       "    </tr>\n",
       "    <tr>\n",
       "      <th>20</th>\n",
       "      <td>Age_36</td>\n",
       "      <td>0.009107</td>\n",
       "    </tr>\n",
       "    <tr>\n",
       "      <th>19</th>\n",
       "      <td>Age_35</td>\n",
       "      <td>0.008619</td>\n",
       "    </tr>\n",
       "    <tr>\n",
       "      <th>23</th>\n",
       "      <td>Age_39</td>\n",
       "      <td>0.005819</td>\n",
       "    </tr>\n",
       "    <tr>\n",
       "      <th>26</th>\n",
       "      <td>Age_42</td>\n",
       "      <td>0.005172</td>\n",
       "    </tr>\n",
       "    <tr>\n",
       "      <th>21</th>\n",
       "      <td>Age_37</td>\n",
       "      <td>0.004506</td>\n",
       "    </tr>\n",
       "    <tr>\n",
       "      <th>5</th>\n",
       "      <td>Age_21</td>\n",
       "      <td>0.004252</td>\n",
       "    </tr>\n",
       "    <tr>\n",
       "      <th>22</th>\n",
       "      <td>Age_38</td>\n",
       "      <td>0.002335</td>\n",
       "    </tr>\n",
       "    <tr>\n",
       "      <th>4</th>\n",
       "      <td>Age_20</td>\n",
       "      <td>0.001114</td>\n",
       "    </tr>\n",
       "    <tr>\n",
       "      <th>25</th>\n",
       "      <td>Age_41</td>\n",
       "      <td>0.000893</td>\n",
       "    </tr>\n",
       "    <tr>\n",
       "      <th>24</th>\n",
       "      <td>Age_40</td>\n",
       "      <td>0.000509</td>\n",
       "    </tr>\n",
       "  </tbody>\n",
       "</table>\n",
       "</div>"
      ],
      "text/plain": [
       "   Features  Importance Score\n",
       "2        LD          0.302857\n",
       "0   SBperPA          0.184971\n",
       "1        GB          0.158170\n",
       "3   HRperFB          0.158131\n",
       "7    Age_23          0.014073\n",
       "6    Age_22          0.013905\n",
       "10   Age_26          0.013224\n",
       "12   Age_28          0.013051\n",
       "11   Age_27          0.012632\n",
       "15   Age_31          0.011788\n",
       "16   Age_32          0.011468\n",
       "13   Age_29          0.011030\n",
       "9    Age_25          0.010797\n",
       "14   Age_30          0.010699\n",
       "8    Age_24          0.010587\n",
       "17   Age_33          0.010587\n",
       "18   Age_34          0.009702\n",
       "20   Age_36          0.009107\n",
       "19   Age_35          0.008619\n",
       "23   Age_39          0.005819\n",
       "26   Age_42          0.005172\n",
       "21   Age_37          0.004506\n",
       "5    Age_21          0.004252\n",
       "22   Age_38          0.002335\n",
       "4    Age_20          0.001114\n",
       "25   Age_41          0.000893\n",
       "24   Age_40          0.000509"
      ]
     },
     "execution_count": 31,
     "metadata": {},
     "output_type": "execute_result"
    }
   ],
   "source": [
    "features = columns_used\n",
    "feature_importances = model5.feature_importances_\n",
    "\n",
    "features_df = pd.DataFrame({'Features': features, 'Importance Score': feature_importances})\n",
    "features_df.sort_values('Importance Score', inplace=True, ascending=False)\n",
    "\n",
    "features_df"
   ]
  },
  {
   "cell_type": "markdown",
   "metadata": {},
   "source": [
    "As expected, Line Drive % is the most important predictor. The others are less so - the least important is age, which as we know from earlier, is negatively correlated with BABIP."
   ]
  },
  {
   "cell_type": "code",
   "execution_count": 33,
   "metadata": {
    "collapsed": false
   },
   "outputs": [
    {
     "name": "stdout",
     "output_type": "stream",
     "text": [
      "[ 0.31861065]\n",
      "[ 0.31735859]\n",
      "[ 0.31608802]\n",
      "Bryce Harper's actual BABIP: .264\n"
     ]
    }
   ],
   "source": [
    "np.zeros((1,X_train.shape[1]))\n",
    "BryceHarper_2016 = pd.DataFrame(np.zeros((1,X_train.shape[1])),columns=list(columns_used))\n",
    "BryceHarper_2016['Age_23'] = 1\n",
    "BryceHarper_2016['SBperPA'] = 0.033\n",
    "BryceHarper_2016['GB'] = 0.404\n",
    "BryceHarper_2016['LD'] = 0.172\n",
    "BryceHarper_2016['HRperFB'] = 0.143\n",
    "\n",
    "print model1.predict(BryceHarper_2016) #Linear\n",
    "print model2.predict(BryceHarper_2016) #Regularized linear\n",
    "print model5.predict(BryceHarper_2016) #Random Forest\n",
    "print \"Bryce Harper's actual BABIP: .264\""
   ]
  },
  {
   "cell_type": "code",
   "execution_count": 36,
   "metadata": {
    "collapsed": false
   },
   "outputs": [
    {
     "name": "stdout",
     "output_type": "stream",
     "text": [
      "[ 0.29872938]\n",
      "[ 0.30122616]\n",
      "[ 0.30654196]\n",
      "Albert Pujols's actual BABIP: .260\n"
     ]
    }
   ],
   "source": [
    "AlbertPujols_2016 = pd.DataFrame(np.zeros((1,X_train.shape[1])),columns=list(columns_used))\n",
    "AlbertPujols_2016['Age_36'] = 1\n",
    "AlbertPujols_2016['SBperPA'] = 0.006\n",
    "AlbertPujols_2016['GB'] = 0.439\n",
    "AlbertPujols_2016['LD'] = 0.166\n",
    "AlbertPujols_2016['HRperFB'] = 0.150\n",
    "\n",
    "print model1.predict(AlbertPujols_2016) #Linear\n",
    "print model2.predict(AlbertPujols_2016) #Regularized linear\n",
    "print model5.predict(AlbertPujols_2016) #Random Forest\n",
    "print \"Albert Pujols's actual BABIP: .260\""
   ]
  },
  {
   "cell_type": "code",
   "execution_count": 37,
   "metadata": {
    "collapsed": false
   },
   "outputs": [
    {
     "name": "stdout",
     "output_type": "stream",
     "text": [
      "[ 0.31598906]\n",
      "[ 0.31549554]\n",
      "[ 0.31438908]\n",
      "Jose Altuve's actual BABIP: .347\n"
     ]
    }
   ],
   "source": [
    "JoseAltuve_2016 = pd.DataFrame(np.zeros((1,X_train.shape[1])),columns=list(columns_used))\n",
    "JoseAltuve_2016['Age_26'] = 1\n",
    "JoseAltuve_2016['SBperPA'] = 0.042\n",
    "JoseAltuve_2016['GB'] = 0.416\n",
    "JoseAltuve_2016['LD'] = 0.262\n",
    "JoseAltuve_2016['HRperFB'] = 0.130\n",
    "\n",
    "print model1.predict(JoseAltuve_2016) #Linear\n",
    "print model2.predict(JoseAltuve_2016) #Regularized linear\n",
    "print model5.predict(JoseAltuve_2016) #Random Forest\n",
    "print \"Jose Altuve's actual BABIP: .347\""
   ]
  },
  {
   "cell_type": "code",
   "execution_count": 38,
   "metadata": {
    "collapsed": false
   },
   "outputs": [
    {
     "name": "stdout",
     "output_type": "stream",
     "text": [
      "[ 0.31750572]\n",
      "[ 0.31688346]\n",
      "[ 0.32027136]\n",
      "DJ LeMahieu's actual BABIP: .388 - highest in MLB\n"
     ]
    }
   ],
   "source": [
    "DJLeMahieu_2016 = pd.DataFrame(np.zeros((1,X_train.shape[1])),columns=list(columns_used))\n",
    "DJLeMahieu_2016['Age_27'] = 1\n",
    "DJLeMahieu_2016['SBperPA'] = 0.017\n",
    "DJLeMahieu_2016['GB'] = 0.506\n",
    "DJLeMahieu_2016['LD'] = 0.266\n",
    "DJLeMahieu_2016['HRperFB'] = 0.102\n",
    "\n",
    "print model1.predict(DJLeMahieu_2016) #Linear\n",
    "print model2.predict(DJLeMahieu_2016) #Regularized linear\n",
    "print model5.predict(DJLeMahieu_2016) #Random Forest\n",
    "print \"DJ LeMahieu's actual BABIP: .388 - highest in MLB\""
   ]
  },
  {
   "cell_type": "code",
   "execution_count": 40,
   "metadata": {
    "collapsed": false
   },
   "outputs": [
    {
     "data": {
      "text/plain": [
       "<matplotlib.axes._subplots.AxesSubplot at 0x11a90d650>"
      ]
     },
     "execution_count": 40,
     "metadata": {},
     "output_type": "execute_result"
    },
    {
     "data": {
      "image/png": "[encoded data removed]",
      "text/plain": [
       "<matplotlib.figure.Figure at 0x119fae4d0>"
      ]
     },
     "metadata": {},
     "output_type": "display_data"
    }
   ],
   "source": [
    "sns.distplot(model1.predict(X_test_std)) #Linear"
   ]
  },
  {
   "cell_type": "code",
   "execution_count": 41,
   "metadata": {
    "collapsed": false
   },
   "outputs": [
    {
     "data": {
      "text/plain": [
       "<matplotlib.axes._subplots.AxesSubplot at 0x11aa8f5d0>"
      ]
     },
     "execution_count": 41,
     "metadata": {},
     "output_type": "execute_result"
    },
    {
     "data": {
      "image/png": "[encoded data removed]",
      "text/plain": [
       "<matplotlib.figure.Figure at 0x119b07850>"
      ]
     },
     "metadata": {},
     "output_type": "display_data"
    }
   ],
   "source": [
    "sns.distplot(model2.predict(X_test_std)) #Regularized Linear"
   ]
  },
  {
   "cell_type": "code",
   "execution_count": 42,
   "metadata": {
    "collapsed": false
   },
   "outputs": [
    {
     "data": {
      "text/plain": [
       "<matplotlib.axes._subplots.AxesSubplot at 0x119887590>"
      ]
     },
     "execution_count": 42,
     "metadata": {},
     "output_type": "execute_result"
    },
    {
     "data": {
      "image/png": "[encoded data removed]",
      "text/plain": [
       "<matplotlib.figure.Figure at 0x119a7f090>"
      ]
     },
     "metadata": {},
     "output_type": "display_data"
    }
   ],
   "source": [
    "sns.distplot(model5.predict(X_test_std)) #Random Forest"
   ]
  },
  {
   "cell_type": "code",
   "execution_count": 45,
   "metadata": {
    "collapsed": true
   },
   "outputs": [],
   "source": [
    "y2_pred = model2.predict(X_test_std)\n",
    "y5_pred = model5.predict(X_test_std)\n",
    "ResultsComp = pd.DataFrame(data={'actual': y_test, 'model2': y2_pred, 'model5' : y5_pred })"
   ]
  },
  {
   "cell_type": "code",
   "execution_count": 47,
   "metadata": {
    "collapsed": false
   },
   "outputs": [
    {
     "data": {
      "text/html": [
       "<div>\n",
       "<table border=\"1\" class=\"dataframe\">\n",
       "  <thead>\n",
       "    <tr style=\"text-align: right;\">\n",
       "      <th></th>\n",
       "      <th>actual</th>\n",
       "      <th>model2</th>\n",
       "      <th>model5</th>\n",
       "    </tr>\n",
       "  </thead>\n",
       "  <tbody>\n",
       "    <tr>\n",
       "      <th>0</th>\n",
       "      <td>0.302</td>\n",
       "      <td>0.285266</td>\n",
       "      <td>0.287478</td>\n",
       "    </tr>\n",
       "    <tr>\n",
       "      <th>1</th>\n",
       "      <td>0.260</td>\n",
       "      <td>0.306843</td>\n",
       "      <td>0.297823</td>\n",
       "    </tr>\n",
       "    <tr>\n",
       "      <th>2</th>\n",
       "      <td>0.314</td>\n",
       "      <td>0.316663</td>\n",
       "      <td>0.314229</td>\n",
       "    </tr>\n",
       "    <tr>\n",
       "      <th>3</th>\n",
       "      <td>0.296</td>\n",
       "      <td>0.313298</td>\n",
       "      <td>0.309277</td>\n",
       "    </tr>\n",
       "    <tr>\n",
       "      <th>4</th>\n",
       "      <td>0.304</td>\n",
       "      <td>0.302778</td>\n",
       "      <td>0.300578</td>\n",
       "    </tr>\n",
       "    <tr>\n",
       "      <th>5</th>\n",
       "      <td>0.324</td>\n",
       "      <td>0.348935</td>\n",
       "      <td>0.320813</td>\n",
       "    </tr>\n",
       "    <tr>\n",
       "      <th>6</th>\n",
       "      <td>0.266</td>\n",
       "      <td>0.316424</td>\n",
       "      <td>0.310028</td>\n",
       "    </tr>\n",
       "    <tr>\n",
       "      <th>7</th>\n",
       "      <td>0.253</td>\n",
       "      <td>0.296796</td>\n",
       "      <td>0.304686</td>\n",
       "    </tr>\n",
       "    <tr>\n",
       "      <th>8</th>\n",
       "      <td>0.234</td>\n",
       "      <td>0.278205</td>\n",
       "      <td>0.280948</td>\n",
       "    </tr>\n",
       "    <tr>\n",
       "      <th>9</th>\n",
       "      <td>0.292</td>\n",
       "      <td>0.307596</td>\n",
       "      <td>0.307299</td>\n",
       "    </tr>\n",
       "    <tr>\n",
       "      <th>10</th>\n",
       "      <td>0.329</td>\n",
       "      <td>0.307986</td>\n",
       "      <td>0.306483</td>\n",
       "    </tr>\n",
       "    <tr>\n",
       "      <th>11</th>\n",
       "      <td>0.297</td>\n",
       "      <td>0.270346</td>\n",
       "      <td>0.271712</td>\n",
       "    </tr>\n",
       "    <tr>\n",
       "      <th>12</th>\n",
       "      <td>0.348</td>\n",
       "      <td>0.332530</td>\n",
       "      <td>0.338538</td>\n",
       "    </tr>\n",
       "    <tr>\n",
       "      <th>13</th>\n",
       "      <td>0.222</td>\n",
       "      <td>0.306342</td>\n",
       "      <td>0.300506</td>\n",
       "    </tr>\n",
       "    <tr>\n",
       "      <th>14</th>\n",
       "      <td>0.282</td>\n",
       "      <td>0.283533</td>\n",
       "      <td>0.285758</td>\n",
       "    </tr>\n",
       "    <tr>\n",
       "      <th>15</th>\n",
       "      <td>0.266</td>\n",
       "      <td>0.292354</td>\n",
       "      <td>0.284917</td>\n",
       "    </tr>\n",
       "    <tr>\n",
       "      <th>16</th>\n",
       "      <td>0.267</td>\n",
       "      <td>0.308892</td>\n",
       "      <td>0.308575</td>\n",
       "    </tr>\n",
       "    <tr>\n",
       "      <th>17</th>\n",
       "      <td>0.266</td>\n",
       "      <td>0.289072</td>\n",
       "      <td>0.292703</td>\n",
       "    </tr>\n",
       "    <tr>\n",
       "      <th>18</th>\n",
       "      <td>0.244</td>\n",
       "      <td>0.281630</td>\n",
       "      <td>0.284868</td>\n",
       "    </tr>\n",
       "    <tr>\n",
       "      <th>19</th>\n",
       "      <td>0.326</td>\n",
       "      <td>0.322925</td>\n",
       "      <td>0.322767</td>\n",
       "    </tr>\n",
       "    <tr>\n",
       "      <th>20</th>\n",
       "      <td>0.312</td>\n",
       "      <td>0.300489</td>\n",
       "      <td>0.304243</td>\n",
       "    </tr>\n",
       "    <tr>\n",
       "      <th>21</th>\n",
       "      <td>0.303</td>\n",
       "      <td>0.302513</td>\n",
       "      <td>0.311104</td>\n",
       "    </tr>\n",
       "    <tr>\n",
       "      <th>22</th>\n",
       "      <td>0.349</td>\n",
       "      <td>0.327111</td>\n",
       "      <td>0.332999</td>\n",
       "    </tr>\n",
       "    <tr>\n",
       "      <th>23</th>\n",
       "      <td>0.306</td>\n",
       "      <td>0.304808</td>\n",
       "      <td>0.311613</td>\n",
       "    </tr>\n",
       "    <tr>\n",
       "      <th>24</th>\n",
       "      <td>0.298</td>\n",
       "      <td>0.285777</td>\n",
       "      <td>0.291017</td>\n",
       "    </tr>\n",
       "    <tr>\n",
       "      <th>25</th>\n",
       "      <td>0.296</td>\n",
       "      <td>0.310888</td>\n",
       "      <td>0.314806</td>\n",
       "    </tr>\n",
       "    <tr>\n",
       "      <th>26</th>\n",
       "      <td>0.336</td>\n",
       "      <td>0.333200</td>\n",
       "      <td>0.318139</td>\n",
       "    </tr>\n",
       "    <tr>\n",
       "      <th>27</th>\n",
       "      <td>0.266</td>\n",
       "      <td>0.280716</td>\n",
       "      <td>0.288360</td>\n",
       "    </tr>\n",
       "    <tr>\n",
       "      <th>28</th>\n",
       "      <td>0.242</td>\n",
       "      <td>0.293152</td>\n",
       "      <td>0.285950</td>\n",
       "    </tr>\n",
       "    <tr>\n",
       "      <th>29</th>\n",
       "      <td>0.282</td>\n",
       "      <td>0.290369</td>\n",
       "      <td>0.290218</td>\n",
       "    </tr>\n",
       "    <tr>\n",
       "      <th>...</th>\n",
       "      <td>...</td>\n",
       "      <td>...</td>\n",
       "      <td>...</td>\n",
       "    </tr>\n",
       "    <tr>\n",
       "      <th>321</th>\n",
       "      <td>0.344</td>\n",
       "      <td>0.316869</td>\n",
       "      <td>0.302840</td>\n",
       "    </tr>\n",
       "    <tr>\n",
       "      <th>322</th>\n",
       "      <td>0.278</td>\n",
       "      <td>0.290018</td>\n",
       "      <td>0.284282</td>\n",
       "    </tr>\n",
       "    <tr>\n",
       "      <th>323</th>\n",
       "      <td>0.354</td>\n",
       "      <td>0.324777</td>\n",
       "      <td>0.338482</td>\n",
       "    </tr>\n",
       "    <tr>\n",
       "      <th>324</th>\n",
       "      <td>0.258</td>\n",
       "      <td>0.272880</td>\n",
       "      <td>0.297260</td>\n",
       "    </tr>\n",
       "    <tr>\n",
       "      <th>325</th>\n",
       "      <td>0.315</td>\n",
       "      <td>0.309771</td>\n",
       "      <td>0.322106</td>\n",
       "    </tr>\n",
       "    <tr>\n",
       "      <th>326</th>\n",
       "      <td>0.278</td>\n",
       "      <td>0.305901</td>\n",
       "      <td>0.304710</td>\n",
       "    </tr>\n",
       "    <tr>\n",
       "      <th>327</th>\n",
       "      <td>0.365</td>\n",
       "      <td>0.308737</td>\n",
       "      <td>0.319888</td>\n",
       "    </tr>\n",
       "    <tr>\n",
       "      <th>328</th>\n",
       "      <td>0.290</td>\n",
       "      <td>0.317445</td>\n",
       "      <td>0.327601</td>\n",
       "    </tr>\n",
       "    <tr>\n",
       "      <th>329</th>\n",
       "      <td>0.307</td>\n",
       "      <td>0.314388</td>\n",
       "      <td>0.306076</td>\n",
       "    </tr>\n",
       "    <tr>\n",
       "      <th>330</th>\n",
       "      <td>0.283</td>\n",
       "      <td>0.300787</td>\n",
       "      <td>0.293343</td>\n",
       "    </tr>\n",
       "    <tr>\n",
       "      <th>331</th>\n",
       "      <td>0.261</td>\n",
       "      <td>0.293199</td>\n",
       "      <td>0.300277</td>\n",
       "    </tr>\n",
       "    <tr>\n",
       "      <th>332</th>\n",
       "      <td>0.272</td>\n",
       "      <td>0.331231</td>\n",
       "      <td>0.300842</td>\n",
       "    </tr>\n",
       "    <tr>\n",
       "      <th>333</th>\n",
       "      <td>0.297</td>\n",
       "      <td>0.300716</td>\n",
       "      <td>0.289311</td>\n",
       "    </tr>\n",
       "    <tr>\n",
       "      <th>334</th>\n",
       "      <td>0.291</td>\n",
       "      <td>0.298574</td>\n",
       "      <td>0.300135</td>\n",
       "    </tr>\n",
       "    <tr>\n",
       "      <th>335</th>\n",
       "      <td>0.263</td>\n",
       "      <td>0.273648</td>\n",
       "      <td>0.284252</td>\n",
       "    </tr>\n",
       "    <tr>\n",
       "      <th>336</th>\n",
       "      <td>0.321</td>\n",
       "      <td>0.307594</td>\n",
       "      <td>0.307693</td>\n",
       "    </tr>\n",
       "    <tr>\n",
       "      <th>337</th>\n",
       "      <td>0.309</td>\n",
       "      <td>0.295719</td>\n",
       "      <td>0.297061</td>\n",
       "    </tr>\n",
       "    <tr>\n",
       "      <th>338</th>\n",
       "      <td>0.257</td>\n",
       "      <td>0.312483</td>\n",
       "      <td>0.307230</td>\n",
       "    </tr>\n",
       "    <tr>\n",
       "      <th>339</th>\n",
       "      <td>0.313</td>\n",
       "      <td>0.306843</td>\n",
       "      <td>0.306107</td>\n",
       "    </tr>\n",
       "    <tr>\n",
       "      <th>340</th>\n",
       "      <td>0.235</td>\n",
       "      <td>0.296371</td>\n",
       "      <td>0.304216</td>\n",
       "    </tr>\n",
       "    <tr>\n",
       "      <th>341</th>\n",
       "      <td>0.311</td>\n",
       "      <td>0.286058</td>\n",
       "      <td>0.285993</td>\n",
       "    </tr>\n",
       "    <tr>\n",
       "      <th>342</th>\n",
       "      <td>0.341</td>\n",
       "      <td>0.298441</td>\n",
       "      <td>0.308617</td>\n",
       "    </tr>\n",
       "    <tr>\n",
       "      <th>343</th>\n",
       "      <td>0.285</td>\n",
       "      <td>0.318020</td>\n",
       "      <td>0.305490</td>\n",
       "    </tr>\n",
       "    <tr>\n",
       "      <th>344</th>\n",
       "      <td>0.289</td>\n",
       "      <td>0.308790</td>\n",
       "      <td>0.300991</td>\n",
       "    </tr>\n",
       "    <tr>\n",
       "      <th>345</th>\n",
       "      <td>0.310</td>\n",
       "      <td>0.271148</td>\n",
       "      <td>0.283997</td>\n",
       "    </tr>\n",
       "    <tr>\n",
       "      <th>346</th>\n",
       "      <td>0.411</td>\n",
       "      <td>0.337386</td>\n",
       "      <td>0.336886</td>\n",
       "    </tr>\n",
       "    <tr>\n",
       "      <th>347</th>\n",
       "      <td>0.301</td>\n",
       "      <td>0.312760</td>\n",
       "      <td>0.304948</td>\n",
       "    </tr>\n",
       "    <tr>\n",
       "      <th>348</th>\n",
       "      <td>0.245</td>\n",
       "      <td>0.297034</td>\n",
       "      <td>0.292321</td>\n",
       "    </tr>\n",
       "    <tr>\n",
       "      <th>349</th>\n",
       "      <td>0.261</td>\n",
       "      <td>0.290257</td>\n",
       "      <td>0.296410</td>\n",
       "    </tr>\n",
       "    <tr>\n",
       "      <th>350</th>\n",
       "      <td>0.313</td>\n",
       "      <td>0.323477</td>\n",
       "      <td>0.321034</td>\n",
       "    </tr>\n",
       "  </tbody>\n",
       "</table>\n",
       "<p>351 rows × 3 columns</p>\n",
       "</div>"
      ],
      "text/plain": [
       "     actual    model2    model5\n",
       "0     0.302  0.285266  0.287478\n",
       "1     0.260  0.306843  0.297823\n",
       "2     0.314  0.316663  0.314229\n",
       "3     0.296  0.313298  0.309277\n",
       "4     0.304  0.302778  0.300578\n",
       "5     0.324  0.348935  0.320813\n",
       "6     0.266  0.316424  0.310028\n",
       "7     0.253  0.296796  0.304686\n",
       "8     0.234  0.278205  0.280948\n",
       "9     0.292  0.307596  0.307299\n",
       "10    0.329  0.307986  0.306483\n",
       "11    0.297  0.270346  0.271712\n",
       "12    0.348  0.332530  0.338538\n",
       "13    0.222  0.306342  0.300506\n",
       "14    0.282  0.283533  0.285758\n",
       "15    0.266  0.292354  0.284917\n",
       "16    0.267  0.308892  0.308575\n",
       "17    0.266  0.289072  0.292703\n",
       "18    0.244  0.281630  0.284868\n",
       "19    0.326  0.322925  0.322767\n",
       "20    0.312  0.300489  0.304243\n",
       "21    0.303  0.302513  0.311104\n",
       "22    0.349  0.327111  0.332999\n",
       "23    0.306  0.304808  0.311613\n",
       "24    0.298  0.285777  0.291017\n",
       "25    0.296  0.310888  0.314806\n",
       "26    0.336  0.333200  0.318139\n",
       "27    0.266  0.280716  0.288360\n",
       "28    0.242  0.293152  0.285950\n",
       "29    0.282  0.290369  0.290218\n",
       "..      ...       ...       ...\n",
       "321   0.344  0.316869  0.302840\n",
       "322   0.278  0.290018  0.284282\n",
       "323   0.354  0.324777  0.338482\n",
       "324   0.258  0.272880  0.297260\n",
       "325   0.315  0.309771  0.322106\n",
       "326   0.278  0.305901  0.304710\n",
       "327   0.365  0.308737  0.319888\n",
       "328   0.290  0.317445  0.327601\n",
       "329   0.307  0.314388  0.306076\n",
       "330   0.283  0.300787  0.293343\n",
       "331   0.261  0.293199  0.300277\n",
       "332   0.272  0.331231  0.300842\n",
       "333   0.297  0.300716  0.289311\n",
       "334   0.291  0.298574  0.300135\n",
       "335   0.263  0.273648  0.284252\n",
       "336   0.321  0.307594  0.307693\n",
       "337   0.309  0.295719  0.297061\n",
       "338   0.257  0.312483  0.307230\n",
       "339   0.313  0.306843  0.306107\n",
       "340   0.235  0.296371  0.304216\n",
       "341   0.311  0.286058  0.285993\n",
       "342   0.341  0.298441  0.308617\n",
       "343   0.285  0.318020  0.305490\n",
       "344   0.289  0.308790  0.300991\n",
       "345   0.310  0.271148  0.283997\n",
       "346   0.411  0.337386  0.336886\n",
       "347   0.301  0.312760  0.304948\n",
       "348   0.245  0.297034  0.292321\n",
       "349   0.261  0.290257  0.296410\n",
       "350   0.313  0.323477  0.321034\n",
       "\n",
       "[351 rows x 3 columns]"
      ]
     },
     "execution_count": 47,
     "metadata": {},
     "output_type": "execute_result"
    }
   ],
   "source": [
    "ResultsComp"
   ]
  },
  {
   "cell_type": "code",
   "execution_count": 74,
   "metadata": {
    "collapsed": false
   },
   "outputs": [
    {
     "data": {
      "image/png": "[encoded data removed]",
      "text/plain": [
       "<matplotlib.figure.Figure at 0x119472b90>"
      ]
     },
     "metadata": {},
     "output_type": "display_data"
    }
   ],
   "source": [
    "PlotResults = pd.DataFrame(data={'LD': X_test.ix[:,2], 'SBperPA': X_test.ix[:,0], 'model2': y2_pred })\n",
    "PlotResults.plot.scatter(x='LD', y='model2');"
   ]
  },
  {
   "cell_type": "code",
   "execution_count": 75,
   "metadata": {
    "collapsed": false
   },
   "outputs": [
    {
     "data": {
      "image/png": "[encoded data removed]",
      "text/plain": [
       "<matplotlib.figure.Figure at 0x11a9fafd0>"
      ]
     },
     "metadata": {},
     "output_type": "display_data"
    }
   ],
   "source": [
    "PlotResults.plot.scatter(x='SBperPA', y='model2');"
   ]
  },
  {
   "cell_type": "code",
   "execution_count": 76,
   "metadata": {
    "collapsed": false
   },
   "outputs": [
    {
     "data": {
      "image/png": "[encoded data removed]",
      "text/plain": [
       "<matplotlib.figure.Figure at 0x118781790>"
      ]
     },
     "metadata": {},
     "output_type": "display_data"
    }
   ],
   "source": [
    "PlotResults = pd.DataFrame(data={'LD': X_test.ix[:,2], 'SBperPA': X_test.ix[:,0], 'model5': y5_pred })\n",
    "PlotResults.plot.scatter(x='LD', y='model5');"
   ]
  },
  {
   "cell_type": "code",
   "execution_count": 78,
   "metadata": {
    "collapsed": false
   },
   "outputs": [
    {
     "data": {
      "image/png": "[encoded data removed]",
      "text/plain": [
       "<matplotlib.figure.Figure at 0x118783850>"
      ]
     },
     "metadata": {},
     "output_type": "display_data"
    }
   ],
   "source": [
    "PlotResults.plot.scatter(x='SBperPA', y='model5');"
   ]
  }
 ],
 "metadata": {
  "anaconda-cloud": {},
  "kernelspec": {
   "display_name": "Python [conda root]",
   "language": "python",
   "name": "conda-root-py"
  },
  "language_info": {
   "codemirror_mode": {
    "name": "ipython",
    "version": 2
   },
   "file_extension": ".py",
   "mimetype": "text/x-python",
   "name": "python",
   "nbconvert_exporter": "python",
   "pygments_lexer": "ipython2",
   "version": "2.7.12"
  }
 },
 "nbformat": 4,
 "nbformat_minor": 1
}
